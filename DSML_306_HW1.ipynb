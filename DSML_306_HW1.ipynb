{
  "cells": [
    {
      "cell_type": "markdown",
      "metadata": {
        "id": "view-in-github",
        "colab_type": "text"
      },
      "source": [
        "<a href=\"https://colab.research.google.com/github/esjangg/vial-qmk/blob/main/DSML_306_HW1.ipynb\" target=\"_parent\"><img src=\"https://colab.research.google.com/assets/colab-badge.svg\" alt=\"Open In Colab\"/></a>"
      ]
    },
    {
      "cell_type": "markdown",
      "source": [
        "# Homework 1: Variables and data types"
      ],
      "metadata": {
        "cell_id": "3c39930f30674155a185d7c009388a63",
        "deepnote_cell_height": 81.953125,
        "deepnote_cell_type": "markdown",
        "id": "K_OPJSCfDBAz"
      }
    },
    {
      "cell_type": "markdown",
      "source": [
        "## <font color='red'>STEP 1: Duplicate this project into your personal projects, and make sure you set the share settings to anyone with a link is a  COMMENTER!\n",
        "\n"
      ],
      "metadata": {
        "tags": [],
        "cell_id": "c30d9f74a48b4da8924266b92ee34b2e",
        "deepnote_cell_height": 237.953125,
        "deepnote_cell_type": "markdown",
        "id": "CFUkbFsBDBA0"
      }
    },
    {
      "cell_type": "markdown",
      "source": [
        "## **Please note, you will need to use a gmail email to use google Colab.**"
      ],
      "metadata": {
        "id": "MAtVSjJFH2on"
      }
    },
    {
      "cell_type": "code",
      "source": [
        "'''\n",
        "Academic Integrity Statement:\n",
        "All work must be your own! If you receive support from an outside source (including online or AI tools),\n",
        "you must cite it clearly in your submission. Failure to do so may be considered academic dishonesty.\n",
        "If you are unsure whether something needs to be cited, err on the side of transparency.\n",
        "\n",
        "You can work with a partner on the HW. Please add their name(s) on this Colab.\n",
        "'''"
      ],
      "metadata": {
        "id": "KZCc_eAg0Jnt"
      },
      "execution_count": null,
      "outputs": []
    },
    {
      "cell_type": "markdown",
      "source": [
        "## Name:"
      ],
      "metadata": {
        "id": "U3yw24vdRRB_"
      }
    },
    {
      "cell_type": "code",
      "source": [
        "# Please enter your name above!"
      ],
      "metadata": {
        "id": "k12eKeOXd04A"
      },
      "execution_count": null,
      "outputs": []
    },
    {
      "cell_type": "markdown",
      "source": [
        "# PLEASE Disable AI Coding in Colab: go to the Tools menu, select Settings, then AI Assistance. In that space you'll be able to revoke consent and hide AI coding features.)\n",
        "\n"
      ],
      "metadata": {
        "id": "X8kqdTNwAzB-"
      }
    },
    {
      "cell_type": "code",
      "source": [],
      "metadata": {
        "id": "Z_M-7TyyBL7u"
      },
      "execution_count": null,
      "outputs": []
    },
    {
      "cell_type": "markdown",
      "source": [
        "# Relevant resources:\n",
        "* Chapter 2 from the text book in general!\n",
        "* Order of operations (2.11): https://runestone.academy/runestone/books/published/fopp/SimplePythonData/OrderofOperations.html\n",
        "* For working with lists and strings: chapter 6 in the textbook!"
      ],
      "metadata": {
        "cell_id": "b11088ff2d714901b857c99ff80c8aaf",
        "deepnote_cell_height": 207.515625,
        "deepnote_cell_type": "markdown",
        "id": "OumKeqayDBA0"
      }
    },
    {
      "cell_type": "markdown",
      "source": [
        "## 1) Let's try using python as a calculator. Compute 3444 multiplied by 2 (use the * character for multiplication) and divided by 164 (use / for division)"
      ],
      "metadata": {
        "tags": [],
        "cell_id": "6a387ea6ccb84cfeb90ac6a86d85b249",
        "deepnote_cell_height": 149.96875,
        "deepnote_cell_type": "markdown",
        "id": "muYCX8ALDBA1"
      }
    },
    {
      "cell_type": "code",
      "source": [],
      "metadata": {
        "tags": [],
        "cell_id": "9c18e203ed6e4b7787983061e1a9e4ee",
        "source_hash": "e78fd5b9",
        "output_cleared": true,
        "execution_start": 1630966611644,
        "execution_millis": 25,
        "deepnote_to_be_reexecuted": false,
        "deepnote_cell_type": "code",
        "id": "yEdpHjxdDBA1"
      },
      "outputs": [],
      "execution_count": null
    },
    {
      "cell_type": "markdown",
      "source": [
        "## Let's try that again using variables as containers that store the numbers:"
      ],
      "metadata": {
        "tags": [],
        "cell_id": "de2aa8fe802f4fe3bda96217a0ed9a89",
        "deepnote_cell_height": 109.96875,
        "deepnote_cell_type": "markdown",
        "id": "N6AizAIODBA1"
      }
    },
    {
      "cell_type": "code",
      "source": [
        "a = 3444\n",
        "b = 2\n",
        "c = 164\n",
        "# Now print out the result of the equation above, but use the variables this time\n"
      ],
      "metadata": {
        "tags": [],
        "cell_id": "c63a9db38860473abdf1878b5ffd1410",
        "source_hash": "61486b11",
        "output_cleared": true,
        "execution_start": 1630966611670,
        "execution_millis": 5,
        "deepnote_to_be_reexecuted": false,
        "deepnote_cell_type": "code",
        "id": "q_SjPODqDBA1"
      },
      "outputs": [],
      "execution_count": null
    },
    {
      "cell_type": "markdown",
      "source": [
        "## 2) OK, now let's try doing some prediction of output. For each of the following cells, read the code (*but don't run it yet!*) and predict what will be printed out. Write your prediction inside the multi-line comment. Then run the cell and see if your prediction was right!"
      ],
      "metadata": {
        "tags": [],
        "cell_id": "15676e2b127a4425978b7610bdd9d325",
        "deepnote_cell_height": 229.96875,
        "deepnote_cell_type": "markdown",
        "id": "RIo6AtPaDBA2"
      }
    },
    {
      "cell_type": "code",
      "source": [
        "a = 7\n",
        "b = 3\n",
        "print(a, b, a+b, a%b)\n",
        "\"\"\"\n",
        "write your predicted output here...\n",
        "\n",
        "\"\"\"; # note this semicolon just makes it so deepnote doesn't do some weird output of our comment (not important!)"
      ],
      "metadata": {
        "tags": [],
        "cell_id": "f68b00cac2444b2fbf8d2725d32810b2",
        "source_hash": "6a978514",
        "output_cleared": true,
        "execution_start": 1630966611709,
        "execution_millis": 10,
        "deepnote_to_be_reexecuted": false,
        "deepnote_cell_type": "code",
        "id": "LwWrmqabDBA2"
      },
      "outputs": [],
      "execution_count": null
    },
    {
      "cell_type": "code",
      "source": [
        "a = 4\n",
        "b = 3\n",
        "print(a)\n",
        "a = 6\n",
        "print(a, a+b)\n",
        "\"\"\"\n",
        "predicted output:\n",
        "\n",
        "\"\"\";"
      ],
      "metadata": {
        "tags": [],
        "cell_id": "fc29f71d606d456680152056e5b9e0b1",
        "source_hash": "b5e0d995",
        "output_cleared": true,
        "execution_start": 1630966611710,
        "execution_millis": 0,
        "deepnote_to_be_reexecuted": false,
        "deepnote_cell_type": "code",
        "id": "BtPSh2rlDBA2"
      },
      "outputs": [],
      "execution_count": null
    },
    {
      "cell_type": "code",
      "source": [],
      "metadata": {
        "id": "WOXUGDP_5av9"
      },
      "execution_count": null,
      "outputs": []
    },
    {
      "cell_type": "code",
      "source": [
        "a = 13 % 5\n",
        "b = 3\n",
        "c = a ** b\n",
        "print(a, c)\n",
        "\"\"\"\n",
        "predicted output:\n",
        "\n",
        "\"\"\";"
      ],
      "metadata": {
        "tags": [],
        "cell_id": "9457c37060a742f79a88bc7111cd496c",
        "source_hash": "4bec3a13",
        "output_cleared": true,
        "execution_start": 1630966611711,
        "execution_millis": 8,
        "deepnote_to_be_reexecuted": false,
        "deepnote_cell_type": "code",
        "id": "uDjn-5T4DBA2"
      },
      "outputs": [],
      "execution_count": null
    },
    {
      "cell_type": "markdown",
      "source": [
        "## 3) Write code to calculate x for any values of i and j based on this equation (hint: use variables!):\n",
        "### $$ x = \\frac{3i+j^2}{ij} $$\n",
        "### And then output the value of x if i=7 and j=2\n",
        "### Steps:\n",
        "* define variables i and j\n",
        "* write the equation inside a print statement to see the result\n",
        "    * make sure you are using the right symbols and parentheses for the equation"
      ],
      "metadata": {
        "tags": [],
        "cell_id": "669959e9e7ce40f5b02416e177b7b558",
        "deepnote_cell_type": "markdown",
        "id": "aUdNK3wTDBA3"
      }
    },
    {
      "cell_type": "code",
      "source": [],
      "metadata": {
        "tags": [],
        "cell_id": "27b483ba49cd42a6a528e715a3dacf30",
        "source_hash": "90ccdb2d",
        "output_cleared": true,
        "execution_start": 1630966611715,
        "execution_millis": 13,
        "deepnote_to_be_reexecuted": false,
        "deepnote_cell_type": "code",
        "id": "CFVna5bwDBA3"
      },
      "outputs": [],
      "execution_count": null
    },
    {
      "cell_type": "markdown",
      "source": [
        "## 4) Chemistry calculations\n",
        "\n",
        "### *NOTE: It is not important for you to understand the chemistry calculation here (ICE table etc.) - you can just look at the equations if you want. (this problem is very similar to problem 3). But if you like chemistry, it's cool!*\n",
        "\n",
        "A 1 L flask is filled with 1.0 mol of NO$_3$ and 1.6 mol of NO$_2$. The following reaction is possible.\n",
        "\n",
        "NO$_3$(g)+NO(g) <--> 2NO$_2$(g)\n",
        "\n",
        "The equilibrium constant K for this reaction is 9.32 at the temperature of the flask.\n",
        "\n",
        "Calculate the equilibrum molarity of NO.\n",
        "\n",
        "It turns out you need to solve the quadratic equation and after some alegebra and an ICE table you get:\n",
        "$-5.32x^2-31.44x+10.24=0$\n",
        "\n",
        "You are going to have to solve a number of these problems. It would be great if you could get the computer to solve them for you!\n",
        "\n",
        "Recall:\n",
        "\n",
        "$ax^2+bx+c=0$\n",
        "\n",
        "gives\n",
        "\n",
        "$x = \\frac{-b\\pm\\sqrt(b^2-4ac)}{2a}$\n",
        "\n",
        "### Define variables for a, b, and c. Then write code that calculates (and prints out) the two possible solutions for x below, and print them out:\n",
        "\n",
        "To find the square root in python, use the sqrt function, which is imported for you below"
      ],
      "metadata": {
        "tags": [],
        "cell_id": "f5c78d20d37c433f9a9808a62c5637de",
        "deepnote_cell_type": "markdown",
        "id": "Zme0xnAwDBA3"
      }
    },
    {
      "cell_type": "code",
      "source": [
        "from math import sqrt\n"
      ],
      "metadata": {
        "tags": [],
        "cell_id": "e0155192924548648a662079725046c9",
        "source_hash": "4f522b00",
        "output_cleared": true,
        "execution_start": 1630966611726,
        "execution_millis": 2,
        "deepnote_to_be_reexecuted": false,
        "deepnote_cell_type": "code",
        "id": "XijZCTTlDBA3"
      },
      "outputs": [],
      "execution_count": null
    },
    {
      "cell_type": "markdown",
      "source": [
        "## 5) Strings\n",
        "Consider the following string (it's a real word!), which is assigned to the variable named myString:\n",
        "\n",
        "myString = 'Pseudopseudohypoparathyroidism'\n",
        "\n",
        "\n",
        "We could get the string 'Pop' with the expression myString\\[0\\] + myString\\[5:7\\].\n"
      ],
      "metadata": {
        "id": "t3Lpr7Rj7RzS",
        "cell_id": "daae5c3704d6418387655b696c6a6d9f",
        "deepnote_cell_type": "markdown"
      }
    },
    {
      "cell_type": "code",
      "source": [
        "myString = 'Pseudopseudohypoparathyroidism'"
      ],
      "metadata": {
        "id": "dqV9QPrS7RzT",
        "cell_id": "e81379456d654717a1fb617ce9e5a406",
        "source_hash": "b3179c7b",
        "owner_user_id": "21713552-6d53-4bd8-a7e1-6ccc0d3394b3",
        "output_cleared": true,
        "execution_start": 1630966611766,
        "execution_millis": 534451585,
        "deepnote_to_be_reexecuted": false,
        "deepnote_cell_type": "code"
      },
      "outputs": [],
      "execution_count": null
    },
    {
      "cell_type": "markdown",
      "source": [
        "a) Similarly, use the string myString and indexing and slicing to get each of the following:\n",
        "The string 'sud'."
      ],
      "metadata": {
        "id": "JfRGwE3L7RzT",
        "cell_id": "25d6ead1c80b4d718635c388c25e8590",
        "deepnote_cell_type": "markdown"
      }
    },
    {
      "cell_type": "code",
      "source": [],
      "metadata": {
        "id": "xIlPGLdw7RzU",
        "cell_id": "466bea44156e41bf8b8e03e27fe98ccd",
        "source_hash": "528bf81e",
        "output_cleared": true,
        "execution_start": 1630966611767,
        "execution_millis": 534451613,
        "deepnote_to_be_reexecuted": false,
        "deepnote_cell_type": "code"
      },
      "outputs": [],
      "execution_count": null
    },
    {
      "cell_type": "markdown",
      "source": [
        "b) Use slicing to write the same string as myString but with the first and last three symbols removed."
      ],
      "metadata": {
        "id": "JZzZVrEm7RzU",
        "cell_id": "13d5b88f0d8549ff8b5fbbabb04846cf",
        "deepnote_cell_type": "markdown"
      }
    },
    {
      "cell_type": "code",
      "source": [],
      "metadata": {
        "id": "59gr4Mq77RzU",
        "cell_id": "bc469c15f6b847ec999f2d2ed5b4ba6e",
        "source_hash": "804bbc15",
        "output_cleared": true,
        "execution_start": 1630966611767,
        "execution_millis": 534451613,
        "deepnote_to_be_reexecuted": false,
        "deepnote_cell_type": "code"
      },
      "outputs": [],
      "execution_count": null
    },
    {
      "cell_type": "markdown",
      "source": [
        "c) Use indexing on myString to print the letter 'P'."
      ],
      "metadata": {
        "tags": [],
        "cell_id": "8f63aeacf5514a548e8acb1e51d684f9",
        "deepnote_cell_type": "markdown",
        "id": "PGSgoUeIDBA4"
      }
    },
    {
      "cell_type": "code",
      "source": [],
      "metadata": {
        "tags": [],
        "cell_id": "a3bd6dd3f35d48069260bb61ba7bd84e",
        "source_hash": "12baf3f0",
        "output_cleared": true,
        "execution_start": 1630966611779,
        "execution_millis": 534451611,
        "deepnote_to_be_reexecuted": false,
        "deepnote_cell_type": "code",
        "id": "jfl5GOeKDBA4"
      },
      "outputs": [],
      "execution_count": null
    },
    {
      "cell_type": "markdown",
      "source": [
        "## 6) Lists\n",
        "Consider the list myList = \\[1, 2, 3, \\['hello', 'there'\\], 42, 47\\]."
      ],
      "metadata": {
        "id": "O0HSTKAA7RzV",
        "cell_id": "7ce7d98a0f1f4f5bb61a01493a55893c",
        "deepnote_cell_type": "markdown"
      }
    },
    {
      "cell_type": "markdown",
      "source": [
        "a) What is the length of this list?"
      ],
      "metadata": {
        "id": "iGtQ2S4D7RzV",
        "cell_id": "7a9b47cc2a9c46d1a5ea7a3f263376af",
        "deepnote_cell_type": "markdown"
      }
    },
    {
      "cell_type": "code",
      "source": [
        "myList = [1, 2, 3, ['hello', 'there'], 42, 47]\n"
      ],
      "metadata": {
        "id": "cwttT2bh7RzV",
        "cell_id": "844a73af7d55491ea2e1ec93c8f5234a",
        "source_hash": "6d02eddb",
        "output_cleared": true,
        "execution_start": 1630966611808,
        "execution_millis": 534451611,
        "deepnote_to_be_reexecuted": false,
        "deepnote_cell_type": "code"
      },
      "outputs": [],
      "execution_count": null
    },
    {
      "cell_type": "markdown",
      "source": [
        "b) We get the number 47 by myList\\[5\\]. For what other value of x would myList\\[x\\] give 47?"
      ],
      "metadata": {
        "id": "apLzSawl7RzV",
        "cell_id": "134c2e4669b948c9a2e89f1c46e8bc6a",
        "deepnote_cell_type": "markdown"
      }
    },
    {
      "cell_type": "code",
      "source": [],
      "metadata": {
        "id": "prdZ2hUL7RzW",
        "cell_id": "e15121d33d02413ab0e421e2227ce825",
        "source_hash": "5960bfe2",
        "output_cleared": true,
        "execution_start": 1630966611809,
        "execution_millis": 6,
        "deepnote_to_be_reexecuted": false,
        "deepnote_cell_type": "code"
      },
      "outputs": [],
      "execution_count": null
    },
    {
      "cell_type": "markdown",
      "source": [
        "c) For what value of x would myList\\[x\\] give \\['hello', 'there'\\]?"
      ],
      "metadata": {
        "id": "fGizsn1n7RzW",
        "cell_id": "86628e7f4ba74fcaa01b600ab04ffb91",
        "deepnote_cell_type": "markdown"
      }
    },
    {
      "cell_type": "code",
      "source": [],
      "metadata": {
        "id": "ljG1wShs7RzW",
        "cell_id": "5971d6b9d57c4529b84be3b1023665a7",
        "source_hash": "f2bab4a8",
        "output_cleared": true,
        "execution_start": 1630966611809,
        "execution_millis": 6,
        "deepnote_to_be_reexecuted": false,
        "deepnote_cell_type": "code"
      },
      "outputs": [],
      "execution_count": null
    },
    {
      "cell_type": "markdown",
      "source": [
        "d) For what values of x and y would myList\\[x\\]\\[y\\] give 'hello'?"
      ],
      "metadata": {
        "id": "LlgBnZCV7RzW",
        "cell_id": "603bb482e442461da3fe5f4ed3a9cbdc",
        "deepnote_cell_type": "markdown"
      }
    },
    {
      "cell_type": "code",
      "source": [],
      "metadata": {
        "id": "YdmRVhkA7RzW",
        "cell_id": "e8b9b5d62548431dbd5d0008b14bfbee",
        "source_hash": "b623e53d",
        "output_cleared": true,
        "execution_start": 1630992619745,
        "execution_millis": 2,
        "deepnote_to_be_reexecuted": false,
        "deepnote_cell_type": "code"
      },
      "outputs": [],
      "execution_count": null
    },
    {
      "cell_type": "markdown",
      "source": [
        "## 7) Algorithmic thinking exercise:\n",
        "Using only words (no coding!) answer the following:\n",
        "What steps would you need to take to count the number of Gs in this sequence of DNA?\n",
        "ATGCAGGTATTATAG"
      ],
      "metadata": {
        "id": "bWMe21J2jXo1"
      }
    },
    {
      "cell_type": "code",
      "source": [],
      "metadata": {
        "id": "uSQcrbWojXEk"
      },
      "execution_count": null,
      "outputs": []
    },
    {
      "cell_type": "code",
      "source": [],
      "metadata": {
        "id": "yex50JkyjW_x"
      },
      "execution_count": null,
      "outputs": []
    },
    {
      "cell_type": "code",
      "source": [],
      "metadata": {
        "id": "FajT1MLVjW1n"
      },
      "execution_count": null,
      "outputs": []
    },
    {
      "cell_type": "code",
      "source": [],
      "metadata": {
        "id": "KwqKeYKUjWp1"
      },
      "execution_count": null,
      "outputs": []
    },
    {
      "cell_type": "markdown",
      "source": [
        "<a style='text-decoration:none;line-height:16px;display:flex;color:#5B5B62;padding:10px;justify-content:end;' href='https://deepnote.com?utm_source=created-in-deepnote-cell&projectId=abd917ef-566f-42ba-8e8e-41b433bdbbb1' target=\"_blank\">\n",
        "<img alt='Created in deepnote.com' style='display:inline;max-height:16px;margin:0px;margin-right:7.5px;' src='data:image/svg+xml;base64,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' > </img>\n",
        "Created in <span style='font-weight:600;margin-left:4px;'>Deepnote</span></a>"
      ],
      "metadata": {
        "created_in_deepnote_cell": true,
        "deepnote_cell_type": "markdown",
        "id": "bdWOkPqxDBA5"
      }
    }
  ],
  "nbformat": 4,
  "nbformat_minor": 0,
  "metadata": {
    "deepnote": {
      "is_reactive": false
    },
    "kernelspec": {
      "name": "python3",
      "language": "python",
      "display_name": "Python 3"
    },
    "language_info": {
      "name": "python",
      "version": "3.7.1",
      "mimetype": "text/x-python",
      "file_extension": ".py",
      "pygments_lexer": "ipython3",
      "codemirror_mode": {
        "name": "ipython",
        "version": 3
      },
      "nbconvert_exporter": "python"
    },
    "deepnote_notebook_id": "2fb6ffda61d74e639c67a2d72c4a441f",
    "deepnote_execution_queue": [],
    "colab": {
      "provenance": [],
      "include_colab_link": true
    }
  }
}